{
 "cells": [
  {
   "cell_type": "markdown",
   "metadata": {},
   "source": [
    "## Python"
   ]
  },
  {
   "cell_type": "code",
   "execution_count": 1,
   "metadata": {
    "collapsed": false
   },
   "outputs": [
    {
     "name": "stdout",
     "output_type": "stream",
     "text": [
      "1\n",
      "2\n",
      "Fizz\n",
      "4\n",
      "Buzz\n",
      "Fizz\n",
      "7\n",
      "8\n",
      "Fizz\n",
      "Buzz\n",
      "11\n",
      "Fizz\n",
      "13\n",
      "14\n",
      "FizzBuzz\n",
      "16\n",
      "17\n",
      "Fizz\n",
      "19\n",
      "Buzz\n",
      "Fizz\n",
      "22\n",
      "23\n",
      "Fizz\n",
      "Buzz\n",
      "26\n",
      "Fizz\n",
      "28\n",
      "29\n",
      "FizzBuzz\n",
      "31\n",
      "32\n",
      "Fizz\n",
      "34\n",
      "Buzz\n",
      "Fizz\n",
      "37\n",
      "38\n",
      "Fizz\n",
      "Buzz\n",
      "41\n",
      "Fizz\n",
      "43\n",
      "44\n",
      "FizzBuzz\n",
      "46\n",
      "47\n",
      "Fizz\n",
      "49\n",
      "Buzz\n",
      "Fizz\n",
      "52\n",
      "53\n",
      "Fizz\n",
      "Buzz\n",
      "56\n",
      "Fizz\n",
      "58\n",
      "59\n",
      "FizzBuzz\n",
      "61\n",
      "62\n",
      "Fizz\n",
      "64\n",
      "Buzz\n",
      "Fizz\n",
      "67\n",
      "68\n",
      "Fizz\n",
      "Buzz\n",
      "71\n",
      "Fizz\n",
      "73\n",
      "74\n",
      "FizzBuzz\n",
      "76\n",
      "77\n",
      "Fizz\n",
      "79\n",
      "Buzz\n",
      "Fizz\n",
      "82\n",
      "83\n",
      "Fizz\n",
      "Buzz\n",
      "86\n",
      "Fizz\n",
      "88\n",
      "89\n",
      "FizzBuzz\n",
      "91\n",
      "92\n",
      "Fizz\n",
      "94\n",
      "Buzz\n",
      "Fizz\n",
      "97\n",
      "98\n",
      "Fizz\n",
      "Buzz\n"
     ]
    }
   ],
   "source": [
    "## FizzBuzz question\n",
    "for i in range(1,101):\n",
    "    if i % 3 == 0:\n",
    "        if i % 5 == 0:\n",
    "            print 'FizzBuzz'\n",
    "        else:\n",
    "            print 'Fizz'\n",
    "    elif i % 5 == 0:\n",
    "        print 'Buzz'\n",
    "    else:\n",
    "        print i"
   ]
  },
  {
   "cell_type": "code",
   "execution_count": 2,
   "metadata": {
    "collapsed": false
   },
   "outputs": [
    {
     "name": "stdout",
     "output_type": "stream",
     "text": [
      "354224848179261915075\n"
     ]
    }
   ],
   "source": [
    "# Fibbonachi \n",
    "f_prev = 1\n",
    "f_prevprev = 1\n",
    "number = 100\n",
    "for i in range(number - 2):\n",
    "    required_f = f_prev + f_prevprev\n",
    "    f_prevprev = f_prev\n",
    "    f_prev = required_f\n",
    "print required_f"
   ]
  },
  {
   "cell_type": "code",
   "execution_count": 3,
   "metadata": {
    "collapsed": false
   },
   "outputs": [],
   "source": [
    "# q_sort\n",
    "def my_sort(array):\n",
    "    if len(array) < 2:\n",
    "        return array\n",
    "    pivot = array[0]\n",
    "    small_num = []\n",
    "    big_num = []\n",
    "    for element in array[1:]:\n",
    "        if element >= pivot:\n",
    "            big_num.append(element)\n",
    "        else:\n",
    "            small_num.append(element)\n",
    "    return my_sort(small_num) + [pivot] +  my_sort(big_num)"
   ]
  },
  {
   "cell_type": "code",
   "execution_count": 4,
   "metadata": {
    "collapsed": false
   },
   "outputs": [],
   "source": [
    "# qsort in one line\n",
    "def one_line_sort(array):\n",
    "    return one_line_sort([x for x in array[1:] if x < array[0]]) + [array[0]] + one_line_sort([x for x in array[1:] if x > array[0]]) if len(array) > 1 else array"
   ]
  },
  {
   "cell_type": "markdown",
   "metadata": {
    "collapsed": true
   },
   "source": [
    "## NumPy"
   ]
  },
  {
   "cell_type": "code",
   "execution_count": 5,
   "metadata": {
    "collapsed": false
   },
   "outputs": [],
   "source": [
    "import numpy\n",
    "\n",
    "def linspace_cycle(start, stop, num=50, endpoint=True, retstep=False):\n",
    "    if endpoint:\n",
    "        step = (stop - start) / (num - 1)\n",
    "    else:\n",
    "        step = (stop - start) / num\n",
    "    array = []\n",
    "    for i in range(num):\n",
    "        array.append(start + i * step)\n",
    "        \n",
    "\n",
    "def linspace_compr(start, stop, num=50, endpoint=True, retstep=False):\n",
    "    if endpoint:\n",
    "        step = (stop - start) / (num - 1)\n",
    "    else:\n",
    "        step = (stop - start) / num\n",
    "    array = [start + i * step for i in range(num)]\n",
    "    if retstep:\n",
    "        return numpy.array(array), step\n",
    "    else:\n",
    "        return numpy.array(array)"
   ]
  },
  {
   "cell_type": "code",
   "execution_count": 6,
   "metadata": {
    "collapsed": false
   },
   "outputs": [
    {
     "name": "stdout",
     "output_type": "stream",
     "text": [
      "with cycle 4.09007072449 ms\n",
      "with list comrehension 3.25298309326 ms\n",
      "with numpy 0.277996063232 ms\n"
     ]
    }
   ],
   "source": [
    "from time import time\n",
    "\n",
    "time1 = time()\n",
    "linspace_cycle(1.0, 10.0, 10000)\n",
    "time2 = time()\n",
    "print 'with cycle', (time2 - time1) * 1000, 'ms'\n",
    "\n",
    "time1 = time()\n",
    "linspace_compr(1.0, 10.0, 10000)\n",
    "time2 = time()\n",
    "print 'with list comrehension', (time2 - time1) * 1000, 'ms'\n",
    "\n",
    "time1 = time()\n",
    "numpy.linspace(1.0, 10.0, 10000)\n",
    "time2 = time()\n",
    "print 'with numpy', (time2 - time1) * 1000, 'ms'"
   ]
  },
  {
   "cell_type": "markdown",
   "metadata": {},
   "source": [
    "## Matplotlib"
   ]
  },
  {
   "cell_type": "code",
   "execution_count": 79,
   "metadata": {
    "collapsed": false
   },
   "outputs": [
    {
     "data": {
      "image/png": "[encoded data removed]",
      "text/plain": [
       "<matplotlib.figure.Figure at 0x7fc6ebd46d50>"
      ]
     },
     "execution_count": 79,
     "metadata": {},
     "output_type": "execute_result"
    }
   ],
   "source": [
    "from matplotlib import pyplot\n",
    "\n",
    "x = numpy.linspace(1.0, 5.0, 1000)\n",
    "\n",
    "figure = pyplot.figure()\n",
    "pl1 = figure.add_subplot(121)\n",
    "pl1.plot(x, numpy.sqrt(x), '--', label='sqrt')\n",
    "pl1.plot(x, numpy.sin(x), ':', label='sin')\n",
    "pl1.plot(x, numpy.log(x), label='log')\n",
    "pl1.legend()\n",
    "pl1.set_xlabel('x')\n",
    "pl1.set_ylabel('y')\n",
    "figure"
   ]
  },
  {
   "cell_type": "code",
   "execution_count": 80,
   "metadata": {
    "collapsed": false
   },
   "outputs": [
    {
     "data": {
      "image/png": "[encoded data removed]",
      "text/plain": [
       "<matplotlib.figure.Figure at 0x7fc6ebd46d50>"
      ]
     },
     "execution_count": 80,
     "metadata": {},
     "output_type": "execute_result"
    }
   ],
   "source": [
    "pl2 = figure.add_subplot(122)\n",
    "pl2.plot(x, 3 * x, '--', label = '3x') \n",
    "pl2.plot(x, 5 / x, '-', label = '5 / x')\n",
    "pl2.legend()\n",
    "pl2.set_xlabel('x')\n",
    "figure"
   ]
  },
  {
   "cell_type": "code",
   "execution_count": 82,
   "metadata": {
    "collapsed": true
   },
   "outputs": [],
   "source": [
    "pyplot.savefig('figure.png')"
   ]
  },
  {
   "cell_type": "markdown",
   "metadata": {},
   "source": [
    "# Scipy"
   ]
  },
  {
   "cell_type": "code",
   "execution_count": 166,
   "metadata": {
    "collapsed": false
   },
   "outputs": [
    {
     "data": {
      "text/plain": [
       "array([[-0.08324317,  0.44856675,  0.65145548, -0.14263366,  1.01105783],\n",
       "       [ 1.1474893 , -0.36447652, -0.51070872, -1.88616295,  0.5049216 ],\n",
       "       [-2.44274706,  1.63128284,  1.1634296 , -0.73363853,  0.76542324],\n",
       "       [ 1.17761413,  0.28755761,  0.27560754, -1.32008652, -0.30624646],\n",
       "       [-0.39219202,  0.01983372, -0.96407886,  0.01593222, -0.57225186]])"
      ]
     },
     "execution_count": 166,
     "metadata": {},
     "output_type": "execute_result"
    }
   ],
   "source": [
    "from scipy import linalg\n",
    "\n",
    "matrix = numpy.random.standard_normal(size=(5,5))\n",
    "vals, vecs = linalg.eig(matrix)  # find eigenvalues and eigenvectors\n",
    "matrix"
   ]
  },
  {
   "cell_type": "code",
   "execution_count": 167,
   "metadata": {
    "collapsed": false
   },
   "outputs": [
    {
     "data": {
      "text/plain": [
       "array([ 1.,  1.,  1.,  1.,  1.])"
      ]
     },
     "execution_count": 167,
     "metadata": {},
     "output_type": "execute_result"
    }
   ],
   "source": [
    "numpy.sum(abs(vecs**2), axis=0)  # eigenvectors are unitary"
   ]
  },
  {
   "cell_type": "code",
   "execution_count": 168,
   "metadata": {
    "collapsed": false
   },
   "outputs": [
    {
     "name": "stdout",
     "output_type": "stream",
     "text": [
      "(-2.92759282436e-15-7.81862251978e-15j)\n",
      "[ -1.66533454e-16 +3.33066907e-16j   0.00000000e+00 +6.10622664e-16j\n",
      "   2.77555756e-16 +1.55431223e-15j  -1.44328993e-15 +1.38777878e-16j\n",
      "   4.44089210e-16 -4.99600361e-16j]\n",
      "(-2.92759282436e-15+7.81862251978e-15j)\n",
      "[ -1.66533454e-16 -3.33066907e-16j   0.00000000e+00 -6.10622664e-16j\n",
      "   2.77555756e-16 -1.55431223e-15j  -1.44328993e-15 -1.38777878e-16j\n",
      "   4.44089210e-16 +4.99600361e-16j]\n",
      "(1.69878318079e-15+0j)\n",
      "[  5.55111512e-16+0.j  -9.43689571e-16+0.j   1.72084569e-15+0.j\n",
      "  -1.41553436e-15+0.j   1.66533454e-16+0.j]\n",
      "(-1.51095784579e-16-9.45656404281e-15j)\n",
      "[ -1.66533454e-16 +5.27355937e-16j  -2.22044605e-16 -4.44089210e-16j\n",
      "   1.05471187e-15 -1.66533454e-16j  -8.04911693e-16 +1.11022302e-16j\n",
      "   7.77156117e-16 +4.16333634e-17j]\n",
      "(-1.51095784579e-16+9.45656404281e-15j)\n",
      "[ -1.66533454e-16 -5.27355937e-16j  -2.22044605e-16 +4.44089210e-16j\n",
      "   1.05471187e-15 +1.66533454e-16j  -8.04911693e-16 -1.11022302e-16j\n",
      "   7.77156117e-16 -4.16333634e-17j]\n"
     ]
    }
   ],
   "source": [
    "for i in range(5):\n",
    "    print linalg.det(matrix - vals[i] * numpy.eye(5))\n",
    "    print numpy.dot(matrix, vecs[:, i].T) - vals[i] * vecs[:, i].T"
   ]
  },
  {
   "cell_type": "code",
   "execution_count": null,
   "metadata": {
    "collapsed": true
   },
   "outputs": [],
   "source": []
  }
 ],
 "metadata": {
  "kernelspec": {
   "display_name": "Python 2",
   "language": "python",
   "name": "python2"
  },
  "language_info": {
   "codemirror_mode": {
    "name": "ipython",
    "version": 2
   },
   "file_extension": ".py",
   "mimetype": "text/x-python",
   "name": "python",
   "nbconvert_exporter": "python",
   "pygments_lexer": "ipython2",
   "version": "2.7.12"
  }
 },
 "nbformat": 4,
 "nbformat_minor": 1
}
